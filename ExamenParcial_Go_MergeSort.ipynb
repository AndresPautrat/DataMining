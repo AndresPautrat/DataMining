{
  "nbformat": 4,
  "nbformat_minor": 0,
  "metadata": {
    "colab": {
      "name": "ExamenParcialPregunta2.ipynb",
      "provenance": [],
      "authorship_tag": "ABX9TyP0efxAOXvgyd2Nf6fHng7f",
      "include_colab_link": true
    },
    "kernelspec": {
      "name": "python3",
      "display_name": "Python 3"
    }
  },
  "cells": [
    {
      "cell_type": "markdown",
      "metadata": {
        "id": "view-in-github",
        "colab_type": "text"
      },
      "source": [
        "<a href=\"https://colab.research.google.com/github/AndresPautrat/DataMining/blob/main/ExamenParcial_Go_MergeSort.ipynb\" target=\"_parent\"><img src=\"https://colab.research.google.com/assets/colab-badge.svg\" alt=\"Open In Colab\"/></a>"
      ]
    },
    {
      "cell_type": "code",
      "metadata": {
        "id": "Mc9nt5yAMKc_"
      },
      "source": [
        "!apt install golang"
      ],
      "execution_count": null,
      "outputs": []
    },
    {
      "cell_type": "code",
      "metadata": {
        "id": "uLq9MZm2YJL3"
      },
      "source": [
        ""
      ],
      "execution_count": null,
      "outputs": []
    },
    {
      "cell_type": "markdown",
      "metadata": {
        "id": "j0k1E_EtYPaz"
      },
      "source": [
        "Intento que no funcino"
      ]
    },
    {
      "cell_type": "code",
      "metadata": {
        "id": "jbd2KAKfWGU8",
        "colab": {
          "base_uri": "https://localhost:8080/",
          "height": 33
        },
        "outputId": "93e79379-886a-4a35-e809-7c59f1bb1618"
      },
      "source": [
        "%%writefile pregunta2.go\n",
        "package main\n",
        "\n",
        "import (\n",
        "\t\"fmt\"\n",
        "  \n",
        "\t\"math/rand\"\n",
        ")\n",
        "\n",
        "func merge(a []float32) {\n",
        "    if\n",
        "    fmt.Println(len(a))\n",
        "}\n",
        "\n",
        "func main() {\n",
        "\tn := 10\n",
        "\ta := make([]float32, n)\n",
        "\trand.Seed(1981)\n",
        "  fmt.Println(len(a))\n",
        "}\n"
      ],
      "execution_count": null,
      "outputs": [
        {
          "output_type": "stream",
          "text": [
            "Overwriting pregunta2.go\n"
          ],
          "name": "stdout"
        }
      ]
    },
    {
      "cell_type": "code",
      "metadata": {
        "id": "qanBs9ygXN_d",
        "colab": {
          "base_uri": "https://localhost:8080/",
          "height": 33
        },
        "outputId": "42b606a1-1a15-40ee-e854-62c61c8bd1ff"
      },
      "source": [
        "!go run pregunta2.go"
      ],
      "execution_count": null,
      "outputs": [
        {
          "output_type": "stream",
          "text": [
            "10\n"
          ],
          "name": "stdout"
        }
      ]
    },
    {
      "cell_type": "markdown",
      "metadata": {
        "id": "r8XfQYmsYLYt"
      },
      "source": [
        "Intento que si funciona"
      ]
    },
    {
      "cell_type": "code",
      "metadata": {
        "id": "K5yRdLGxMLcC",
        "colab": {
          "base_uri": "https://localhost:8080/",
          "height": 33
        },
        "outputId": "b624b4df-4344-4ebc-ff35-fa6701cbc6ac"
      },
      "source": [
        "%%writefile pregunta2.go\n",
        "package main\n",
        "\n",
        "import (\n",
        "\t\"fmt\"\n",
        "\t\"math/rand\"\n",
        "\t\"sync\"\n",
        "\t\"time\"\n",
        ")\n",
        "\n",
        "func merge(a []float32) {\n",
        "\tn := len(a)\n",
        "\ttemp := make([]float32, n)\n",
        "\tmid := (n - 1) / 2\n",
        "\ti := 0\n",
        "\tj := mid + 1\n",
        "\tfor k := 0; i <= mid || j < n; k++ {\n",
        "\t\tif i > mid || j < n && a[j] < a[i] {\n",
        "\t\t\ttemp[k] = a[j]\n",
        "\t\t\tj++\n",
        "\t\t} else {\n",
        "\t\t\ttemp[k] = a[i]\n",
        "\t\t\ti++\n",
        "\t\t}\n",
        "\t}\n",
        "\tfor k := 0; k < n; k++ {\n",
        "\t\ta[k] = temp[k]\n",
        "\t}\n",
        "}\n",
        "\n",
        "func mergesort(a []float32, s *sync.Mutex) {\n",
        "\tif len(a) > 1 {\n",
        "\t\tmid := (len(a) - 1) / 2\n",
        "\t\ts1 := &sync.Mutex{}\n",
        "\t\ts2 := &sync.Mutex{}\n",
        "\t\ts1.Lock()\n",
        "\t\ts2.Lock()\n",
        "\t\tgo mergesort(a[:mid+1], s1)\n",
        "\t\tgo mergesort(a[mid+1:], s2)\n",
        "\t\ts1.Lock()\n",
        "\t\ts2.Lock()\n",
        "\t\tmerge(a)\n",
        "\t}\n",
        "\ts.Unlock()\n",
        "}\n",
        "\n",
        "func main() {\n",
        "\tn := 10\n",
        "\ta := make([]float32, n)\n",
        "\trand.Seed(1981)\n",
        "\tfor i := range a {\n",
        "\t\ta[i] = float32(rand.Intn(1000000))\n",
        "\t}\n",
        "\tstart := time.Now()\n",
        "\ts := &sync.Mutex{}\n",
        "\ts.Lock()\n",
        "\tmergesort(a, s)\n",
        "\ts.Lock()\n",
        "\tfmt.Println(\"Time elapsed \", time.Since(start))\n",
        "\tsorted := true\n",
        "\tfor i := 0; i < n-1; i++ {\n",
        "\t\tif a[i] > a[i+1] {\n",
        "\t\t\tsorted = false\n",
        "      \n",
        "\t\t\tbreak\n",
        "\t\t}\n",
        "    fmt.Println(a[i])\n",
        "\t}\n",
        "\tif sorted {\n",
        "\t\tfmt.Println(\"sorted!!\")\n",
        "\t} else {\n",
        "\t\tfmt.Println(\"not sorted!!\")\n",
        "\t}\n",
        "}"
      ],
      "execution_count": null,
      "outputs": [
        {
          "output_type": "stream",
          "text": [
            "Overwriting pregunta2.go\n"
          ],
          "name": "stdout"
        }
      ]
    },
    {
      "cell_type": "code",
      "metadata": {
        "id": "lLk85wllMXOs",
        "colab": {
          "base_uri": "https://localhost:8080/",
          "height": 196
        },
        "outputId": "90e486d0-ce4b-47c1-9015-e679909e3a27"
      },
      "source": [
        "!go run pregunta2.go"
      ],
      "execution_count": null,
      "outputs": [
        {
          "output_type": "stream",
          "text": [
            "Time elapsed  60.437µs\n",
            "186976\n",
            "226907\n",
            "285130\n",
            "383025\n",
            "400753\n",
            "408416\n",
            "546413\n",
            "768027\n",
            "769348\n",
            "sorted!!\n"
          ],
          "name": "stdout"
        }
      ]
    },
    {
      "cell_type": "code",
      "metadata": {
        "id": "mFex9T_GMd45"
      },
      "source": [
        ""
      ],
      "execution_count": null,
      "outputs": []
    }
  ]
}