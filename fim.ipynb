{
  "nbformat": 4,
  "nbformat_minor": 0,
  "metadata": {
    "colab": {
      "name": "DMfim.ipynb",
      "provenance": [],
      "collapsed_sections": [],
      "authorship_tag": "ABX9TyMmKMLOLfC2NM38jb3ML45R",
      "include_colab_link": true
    },
    "kernelspec": {
      "name": "python3",
      "display_name": "Python 3"
    }
  },
  "cells": [
    {
      "cell_type": "markdown",
      "metadata": {
        "id": "view-in-github",
        "colab_type": "text"
      },
      "source": [
        "<a href=\"https://colab.research.google.com/github/AndresPautrat/DataMining/blob/main/fim.ipynb\" target=\"_parent\"><img src=\"https://colab.research.google.com/assets/colab-badge.svg\" alt=\"Open In Colab\"/></a>"
      ]
    },
    {
      "cell_type": "code",
      "metadata": {
        "id": "y9fsYYlhdD0p",
        "colab": {
          "base_uri": "https://localhost:8080/",
          "height": 123
        },
        "outputId": "0e477c22-c4d3-448c-f050-9fcbd932e12a"
      },
      "source": [
        ""
      ],
      "execution_count": null,
      "outputs": [
        {
          "output_type": "stream",
          "text": [
            "total 8\n",
            "-rw-r--r-- 1 root root  162 Oct 21 18:29 fim.so\n",
            "drwxr-xr-x 1 root root 4096 Oct 14 16:31 sample_data\n"
          ],
          "name": "stdout"
        },
        {
          "output_type": "stream",
          "text": [
            "  % Total    % Received % Xferd  Average Speed   Time    Time     Time  Current\n",
            "                                 Dload  Upload   Total   Spent    Left  Speed\n",
            "\r  0     0    0     0    0     0      0      0 --:--:-- --:--:-- --:--:--     0\r100   162  100   162    0     0   3176      0 --:--:-- --:--:-- --:--:--  3176\n"
          ],
          "name": "stderr"
        }
      ]
    },
    {
      "cell_type": "code",
      "metadata": {
        "id": "9Rk7UVZpdkDM",
        "colab": {
          "base_uri": "https://localhost:8080/",
          "height": 176
        },
        "outputId": "323ee1c1-0d6f-4777-b767-8019f3b954ca"
      },
      "source": [
        "import sys\n",
        "print(\"\\n\".join(sys.path))"
      ],
      "execution_count": null,
      "outputs": [
        {
          "output_type": "stream",
          "text": [
            "\n",
            "/env/python\n",
            "/usr/lib/python36.zip\n",
            "/usr/lib/python3.6\n",
            "/usr/lib/python3.6/lib-dynload\n",
            "/usr/local/lib/python3.6/dist-packages\n",
            "/usr/lib/python3/dist-packages\n",
            "/usr/local/lib/python3.6/dist-packages/IPython/extensions\n",
            "/root/.ipython\n"
          ],
          "name": "stdout"
        }
      ]
    },
    {
      "cell_type": "code",
      "metadata": {
        "id": "ovlYswk2bYD_",
        "colab": {
          "base_uri": "https://localhost:8080/",
          "height": 34
        },
        "outputId": "4d5f5c8a-6ab0-4139-e9d1-c7861ac8ba46"
      },
      "source": [
        "!pwd"
      ],
      "execution_count": null,
      "outputs": [
        {
          "output_type": "stream",
          "text": [
            "/content\n"
          ],
          "name": "stdout"
        }
      ]
    },
    {
      "cell_type": "code",
      "metadata": {
        "id": "ZfmGx6wabbi4",
        "colab": {
          "base_uri": "https://localhost:8080/",
          "height": 478
        },
        "outputId": "b9b7c913-3748-4470-ff71-b438bebd9aee"
      },
      "source": [
        "!ls -l /"
      ],
      "execution_count": null,
      "outputs": [
        {
          "output_type": "stream",
          "text": [
            "total 96\n",
            "drwxr-xr-x   1 root root 4096 Oct 14 16:24 bin\n",
            "drwxr-xr-x   2 root root 4096 Apr 24  2018 boot\n",
            "drwxr-xr-x   1 root root 4096 Oct 21 18:28 content\n",
            "drwxr-xr-x   1 root root 4096 Oct 19 16:17 datalab\n",
            "drwxr-xr-x   5 root root  360 Oct 21 18:25 dev\n",
            "drwxr-xr-x   1 root root 4096 Oct 21 18:25 etc\n",
            "drwxr-xr-x   2 root root 4096 Apr 24  2018 home\n",
            "drwxr-xr-x   1 root root 4096 Oct 14 16:26 lib\n",
            "drwxr-xr-x   2 root root 4096 Oct 14 16:20 lib32\n",
            "drwxr-xr-x   2 root root 4096 Sep 21 17:16 lib64\n",
            "drwxr-xr-x   2 root root 4096 Sep 21 17:14 media\n",
            "drwxr-xr-x   2 root root 4096 Sep 21 17:14 mnt\n",
            "drwxr-xr-x   1 root root 4096 Oct 14 16:26 opt\n",
            "dr-xr-xr-x 111 root root    0 Oct 21 18:25 proc\n",
            "drwx------   1 root root 4096 Oct 21 18:25 root\n",
            "drwxr-xr-x   1 root root 4096 Oct 14 16:21 run\n",
            "drwxr-xr-x   1 root root 4096 Oct 14 16:24 sbin\n",
            "drwxr-xr-x   2 root root 4096 Sep 21 17:14 srv\n",
            "drwxr-xr-x   4 root root 4096 Oct 14 17:03 swift\n",
            "dr-xr-xr-x  12 root root    0 Oct 21 18:25 sys\n",
            "drwxr-xr-x   4 root root 4096 Oct 14 16:58 tensorflow-1.15.2\n",
            "drwxrwxrwt   1 root root 4096 Oct 21 18:25 tmp\n",
            "drwxr-xr-x   1 root root 4096 Oct 19 16:16 tools\n",
            "drwxr-xr-x   1 root root 4096 Oct 14 16:26 usr\n",
            "drwxr-xr-x   1 root root 4096 Oct 21 18:25 var\n"
          ],
          "name": "stdout"
        }
      ]
    },
    {
      "cell_type": "code",
      "metadata": {
        "id": "TjbzactQbMN6",
        "colab": {
          "base_uri": "https://localhost:8080/",
          "height": 87
        },
        "outputId": "7424e79f-5a51-4979-e182-0962fab25c92"
      },
      "source": [
        "%%script bash\n",
        "curl -O borgelt.net/bin/py3/fim.so \n",
        "sudo ln -s \"$(pwd)/fim.so\" /usr/local/lib/python3.6/dist-packages/"
      ],
      "execution_count": null,
      "outputs": [
        {
          "output_type": "stream",
          "text": [
            "  % Total    % Received % Xferd  Average Speed   Time    Time     Time  Current\n",
            "                                 Dload  Upload   Total   Spent    Left  Speed\n",
            "\r  0     0    0     0    0     0      0      0 --:--:-- --:--:-- --:--:--     0\r100   162  100   162    0     0   5785      0 --:--:-- --:--:-- --:--:--  5785\n",
            "ln: failed to create symbolic link '/usr/local/lib/python3.6/dist-packages/fim.so': File exists\n"
          ],
          "name": "stderr"
        }
      ]
    },
    {
      "cell_type": "code",
      "metadata": {
        "id": "TWHoLRuEb9tV",
        "colab": {
          "base_uri": "https://localhost:8080/",
          "height": 87
        },
        "outputId": "db630c8a-6391-4bb2-dbd8-3a8dece1c502"
      },
      "source": [
        "%%script bash\n",
        "curl -O https://borgelt.net/bin/py3/fim.so\n",
        "sudo ln -s \"$(pwd)/fim.so\" /usr/local/lib/python3.6/dist-packages/"
      ],
      "execution_count": null,
      "outputs": [
        {
          "output_type": "stream",
          "text": [
            "  % Total    % Received % Xferd  Average Speed   Time    Time     Time  Current\n",
            "                                 Dload  Upload   Total   Spent    Left  Speed\n",
            "\r  0     0    0     0    0     0      0      0 --:--:-- --:--:-- --:--:--     0\r100  756k  100  756k    0     0  5687k      0 --:--:-- --:--:-- --:--:-- 5687k\n",
            "ln: failed to create symbolic link '/usr/local/lib/python3.6/dist-packages/fim.so': File exists\n"
          ],
          "name": "stderr"
        }
      ]
    },
    {
      "cell_type": "code",
      "metadata": {
        "id": "sT5Sw-bfb6O4"
      },
      "source": [
        "from fim import *\n",
        "import seaborn as sns\n",
        "import matplotlib.pyplot as plt\n",
        "import numpy as np\n",
        "import time\n",
        "import pandas as pd"
      ],
      "execution_count": null,
      "outputs": []
    },
    {
      "cell_type": "code",
      "metadata": {
        "id": "ZZSwxs5Xoi9H",
        "colab": {
          "base_uri": "https://localhost:8080/",
          "height": 1000
        },
        "outputId": "64ae077d-4d8f-4c86-cdb3-b38a57fe2a96"
      },
      "source": [
        "help(eclat)"
      ],
      "execution_count": null,
      "outputs": [
        {
          "output_type": "stream",
          "text": [
            "Help on built-in function eclat in module fim:\n",
            "\n",
            "eclat(...)\n",
            "    eclat (tracts, target='s', supp=10, zmin=1, zmax=None, report='a',\n",
            "           eval='x', agg='x', thresh=10, prune=None, algo='a', mode='',\n",
            "           border=None)\n",
            "    Find frequent item sets with the Eclat algorithm.\n",
            "    tracts  transaction database to mine (mandatory)\n",
            "            The database must be an iterable of transactions;\n",
            "            each transaction must be an iterable of items;\n",
            "            each item must be a hashable object.\n",
            "            If the database is a dictionary, the transactions are\n",
            "            the keys, the values their (integer) multiplicities.\n",
            "    target  type of frequent item sets to find     (default: s)\n",
            "            s/a   sets/all   all     frequent item sets\n",
            "            c     closed     closed  frequent item sets\n",
            "            m     maximal    maximal frequent item sets\n",
            "            g     gens       generators\n",
            "            r     rules      association rules\n",
            "    supp    minimum support of an item set         (default: 10)\n",
            "            (positive: percentage, negative: absolute number)\n",
            "    conf    minimum confidence of an assoc. rule   (default: 80%)\n",
            "    zmin    minimum number of items per item set   (default: 1)\n",
            "    zmax    maximum number of items per item set   (default: no limit)\n",
            "    report  values to report with an item set      (default: a)\n",
            "            a     absolute item set support (number of transactions)\n",
            "            s     relative item set support as a fraction\n",
            "            S     relative item set support as a percentage\n",
            "            e     value of item set evaluation measure\n",
            "            E     value of item set evaluation measure as a percentage\n",
            "            (     combine values in a tuple (must be first character)\n",
            "            [     combine values in a list  (must be first character)\n",
            "            #     pattern spectrum as a dictionary  (no patterns)\n",
            "            =     pattern spectrum as a list        (no patterns)\n",
            "            |     pattern spectrum as three columns (no patterns)\n",
            "            for target 'r' (association rules) also available:\n",
            "            b     absolute body set  support (number of transactions)\n",
            "            x     relative body set  support as a fraction\n",
            "            X     relative body set  support as a percentage\n",
            "            h     absolute head item support (number of transactions)\n",
            "            y     relative head item support as a fraction\n",
            "            Y     relative head item support as a percentage\n",
            "            c     rule confidence as a fraction\n",
            "            C     rule confidence as a percentage\n",
            "            l     lift value of a rule (confidence/prior)\n",
            "            L     lift value of a rule as a percentage\n",
            "            Q     support of the empty set (total number of transactions)\n",
            "    eval    measure for item set evaluation        (default: x)\n",
            "            x     none       no measure / zero (default)\n",
            "            b     ldratio    binary logarithm of support quotient       (+)\n",
            "            c     conf       rule confidence                            (+)\n",
            "            d     confdiff   absolute confidence difference to prior    (+)\n",
            "            l     lift       lift value (confidence divided by prior)   (+)\n",
            "            a     liftdiff   absolute difference of lift value to 1     (+)\n",
            "            q     liftquot   difference of lift quotient to 1           (+)\n",
            "            v     cvct       conviction (inverse lift negated head)     (+)\n",
            "            e     cvctdiff   absolute difference of conviction to 1     (+)\n",
            "            r     cvctquot   difference of conviction quotient to 1     (+)\n",
            "            k     cprob      conditional probability ratio              (+)\n",
            "            j     import     importance (binary log. of prob. ratio)    (+)\n",
            "            z     cert       certainty factor (relative conf. change)   (+)\n",
            "            n     chi2       normalized chi^2 measure                   (+)\n",
            "            p     chi2pval   p-value f/ (unnormalized) chi^2 measure    (-)\n",
            "            y     yates      normalized chi^2 with Yates' correction    (+)\n",
            "            t     yatespval  p-value f/ Yates-corrected chi^2 measure   (-)\n",
            "            i     info       information difference to prior            (+)\n",
            "            g     infopval   p-value f/ G statistic/info. difference    (-)\n",
            "            f     fetprob    Fisher's exact test (table probability)    (-)\n",
            "            h     fetchi2    Fisher's exact test (chi^2 measure)        (-)\n",
            "            m     fetinfo    Fisher's exact test (mutual information)   (-)\n",
            "            s     fetsupp    Fisher's exact test (support)              (-)\n",
            "            Measures marked with (+) must meet or exceed the threshold,\n",
            "            measures marked with (-) must not exceed the threshold\n",
            "            in order for the item set to be reported.\n",
            "    agg     evaluation measure aggregation mode    (default: x)\n",
            "            x     none       no aggregation (use first value)\n",
            "            m     min        minimum of individual measure values\n",
            "            n     max        maximum of individual measure values\n",
            "            a     avg        average of individual measure values\n",
            "    thresh  threshold for evaluation measure       (default: 10%)\n",
            "    prune   min. size for evaluation filtering     (default: no pruning)\n",
            "            = 0   backward filtering       (no subset check)\n",
            "            < 0   weak   forward filtering (one subset  must qualify)\n",
            "            > 0   strong forward filtering (all subsets must qualify)\n",
            "    algo    algorithm variant to use               (default: a)\n",
            "            a     auto       automatic choice based on data properties\n",
            "            e     basic      transaction id lists intersection (basic)\n",
            "            i     tids       transaction id lists intersection (improved)\n",
            "            b     bits       transaction id lists as bit vectors\n",
            "            t     table      item occurrence table (standard)\n",
            "            s     simple     item occurrence table (simplified)\n",
            "            r     ranges     transaction id range lists intersection\n",
            "            o     occdlv     occurrence deliver from transaction lists\n",
            "            d     diff       transaction id difference sets (diffsets)\n",
            "    mode    operation mode indicators/flags        (default: None)\n",
            "            l     do not use a 16-items machine\n",
            "            x     do not use perfect extension pruning\n",
            "            i     do not sort items w.r.t. conditional support\n",
            "            u     do not head union tail (hut) pruning (maximal)\n",
            "            y     check extensions for closed/maximal item sets\n",
            "            z     invalidate evaluation below expected support\n",
            "            o     use original rule support definition (body & head)\n",
            "    border  support border for filtering item sets (default: None)\n",
            "            Must be a list or tuple of (absolute) minimum support values\n",
            "            per item set size (by which the list/tuple is indexed).\n",
            "    appear  dictionary mapping items to item appearance indicators,\n",
            "            with the key None referring to the default item appearance.\n",
            "            (If None does not occur as a key or no dictionary is given,\n",
            "            the default item appearance indicator is 'both'.)\n",
            "            This parameter is only used if the target type is rules.\n",
            "            * item may not appear anywhere in a rule:\n",
            "              '-', 'n', 'none', 'neither', 'ignore'\n",
            "            * item may appear only in rule body/antecedent:\n",
            "              'i', 'in', 'inp', 'input', 'b', 'body',\n",
            "              'a', 'ante', 'antecedent'\n",
            "            * item may appear only in rule head/consequent:\n",
            "              'o', 'out',      'output', 'h', 'head',\n",
            "              'c', 'cons', 'consequent'\n",
            "            * item may appear anywhere in a rule:\n",
            "              'io', 'i&o', 'inout', 'in&out', 'bh', 'b&h', 'both'\n",
            "    returns if report is not in ['#','=','|']:\n",
            "              if the target is association rules:\n",
            "                a list of rules (i.e. tuples with two or more elements),\n",
            "                each consisting of a head/consequent item, a tuple with\n",
            "                a body/antecedent item set, and the values selected by\n",
            "                the parameter 'report', which may be combined into a\n",
            "                tuple or a list if report[0] is '(' or '[', respectively.\n",
            "              if the target is a type of item sets:\n",
            "                a list of patterns (i.e. tuples with one or more elements),\n",
            "                each consisting of a tuple with a found frequent item set\n",
            "                and the values selected by the parameter 'report', which\n",
            "                may be combined into a tuple or list if report[0] is '('\n",
            "                or '[', respectively\n",
            "            if report in ['#','=','|']:\n",
            "              a pattern spectrum as a dictionary mapping pattern sizes\n",
            "              to the corresponding occurrence support ranges, as a list\n",
            "              of triplets (size, min. support, max. support) or as three\n",
            "              columns for sizes and minimum and maximum support values\n",
            "\n"
          ],
          "name": "stdout"
        }
      ]
    },
    {
      "cell_type": "code",
      "metadata": {
        "id": "tUGFJ3PionrU"
      },
      "source": [
        "def loadDataset(filename):\n",
        "    with open(filename, 'r') as file:\n",
        "        dataset = []\n",
        "        dataset1 = []\n",
        "        for x in file:\n",
        "            if \"#\" not in x:\n",
        "                items = x.split()\n",
        "                dataset.append([int(j) for j in items[1:]])\n",
        "                if items[0] == '1':\n",
        "                    dataset1.append([int(j) for j in items[1:]])\n",
        "\n",
        "    return dataset, dataset1"
      ],
      "execution_count": null,
      "outputs": []
    },
    {
      "cell_type": "code",
      "metadata": {
        "id": "Zj8YvwBUc1fP"
      },
      "source": [
        "repo=\"http://raw.githubusercontent.com/pcsilcan/dm/master/20202/data/\"\n",
        "filename=\"zoo.bin\""
      ],
      "execution_count": null,
      "outputs": []
    },
    {
      "cell_type": "code",
      "metadata": {
        "id": "NJrp_yHef3bT",
        "colab": {
          "base_uri": "https://localhost:8080/",
          "height": 70
        },
        "outputId": "9e83bf51-642b-4a0a-ee0f-1a41c4d8f51b"
      },
      "source": [
        "!curl -O \"$repo$filename\""
      ],
      "execution_count": null,
      "outputs": [
        {
          "output_type": "stream",
          "text": [
            "  % Total    % Received % Xferd  Average Speed   Time    Time     Time  Current\n",
            "                                 Dload  Upload   Total   Spent    Left  Speed\n",
            "\r  0     0    0     0    0     0      0      0 --:--:-- --:--:-- --:--:--     0\r  0     0    0     0    0     0      0      0 --:--:-- --:--:-- --:--:--     0\n"
          ],
          "name": "stdout"
        }
      ]
    },
    {
      "cell_type": "code",
      "metadata": {
        "id": "NwohIBMzf8lM"
      },
      "source": [
        "d,_=loadDataset(filename)\n"
      ],
      "execution_count": null,
      "outputs": []
    },
    {
      "cell_type": "code",
      "metadata": {
        "id": "dny8pvVTp1Dx",
        "colab": {
          "base_uri": "https://localhost:8080/",
          "height": 34
        },
        "outputId": "5fc6a110-ffce-4a4b-fa77-0f10bcbdf115"
      },
      "source": [
        "d"
      ],
      "execution_count": null,
      "outputs": [
        {
          "output_type": "execute_result",
          "data": {
            "text/plain": [
              "[]"
            ]
          },
          "metadata": {
            "tags": []
          },
          "execution_count": 30
        }
      ]
    },
    {
      "cell_type": "code",
      "metadata": {
        "id": "CxPfsHLYgAdJ"
      },
      "source": [
        "def allPatterns(d,f,minsupp):\n",
        "  s=eclat(d,target='a', supp=minsupp)\n",
        "  if len(s)>0:\n",
        "    df = pd.DataFrame(s)\n",
        "    df.columns =[\"Patterns\", \"Freq\"]\n",
        "    return df, True\n",
        "  return _,False"
      ],
      "execution_count": null,
      "outputs": []
    },
    {
      "cell_type": "code",
      "metadata": {
        "id": "ZCF87sdlhAcU"
      },
      "source": [
        "def plotAllPatterns(filename):\n",
        "  numberdata=[]\n",
        "  d,_=loadDataset(filename)\n",
        "  k=len(d)//20\n",
        "  for i in range(k,len(d),k):\n",
        "    start = time.time()\n",
        "    t,r=allPatterns(d,i)\n",
        "    end=time.time()\n",
        "    if r:\n",
        "      numberdata.append((i,t.shape[0],end-start))\n",
        "  df=df.DataFrame(numberdata)\n",
        "  df.columns=[\"Threshold\",\"AllItemsets\",\"TimeAllItemsets\"]\n",
        "  fig, ax=plt.subplots(1,2)\n",
        "  sns.lineplot(x=\"Threshold\",y=\"AllItemsets\",ax=ax[0],data=df)\n",
        "  sns.lineplot(x=\"Threshold\",y=\"TimeAllItemsets\",ax=ax[1],data=df)\n",
        "  return df"
      ],
      "execution_count": null,
      "outputs": []
    },
    {
      "cell_type": "code",
      "metadata": {
        "id": "Ro9sm_ORiDnu",
        "colab": {
          "base_uri": "https://localhost:8080/",
          "height": 292
        },
        "outputId": "80a91ce7-1771-4bc6-fd70-70e5fbfb176a"
      },
      "source": [
        "dfAFI=plotAllPatterns(filename)"
      ],
      "execution_count": null,
      "outputs": [
        {
          "output_type": "error",
          "ename": "ValueError",
          "evalue": "ignored",
          "traceback": [
            "\u001b[0;31m---------------------------------------------------------------------------\u001b[0m",
            "\u001b[0;31mValueError\u001b[0m                                Traceback (most recent call last)",
            "\u001b[0;32m<ipython-input-27-07f99816b916>\u001b[0m in \u001b[0;36m<module>\u001b[0;34m()\u001b[0m\n\u001b[0;32m----> 1\u001b[0;31m \u001b[0mdfAFI\u001b[0m\u001b[0;34m=\u001b[0m\u001b[0mplotAllPatterns\u001b[0m\u001b[0;34m(\u001b[0m\u001b[0mfilename\u001b[0m\u001b[0;34m)\u001b[0m\u001b[0;34m\u001b[0m\u001b[0;34m\u001b[0m\u001b[0m\n\u001b[0m",
            "\u001b[0;32m<ipython-input-26-aeefe87cb2cb>\u001b[0m in \u001b[0;36mplotAllPatterns\u001b[0;34m(filename)\u001b[0m\n\u001b[1;32m      3\u001b[0m     \u001b[0md\u001b[0m\u001b[0;34m,\u001b[0m \u001b[0m_\u001b[0m \u001b[0;34m=\u001b[0m \u001b[0mloadDataset\u001b[0m\u001b[0;34m(\u001b[0m\u001b[0mfilename\u001b[0m\u001b[0;34m)\u001b[0m\u001b[0;34m\u001b[0m\u001b[0;34m\u001b[0m\u001b[0m\n\u001b[1;32m      4\u001b[0m     \u001b[0mk\u001b[0m \u001b[0;34m=\u001b[0m \u001b[0mlen\u001b[0m\u001b[0;34m(\u001b[0m\u001b[0md\u001b[0m\u001b[0;34m)\u001b[0m \u001b[0;34m//\u001b[0m \u001b[0;36m20\u001b[0m\u001b[0;34m\u001b[0m\u001b[0;34m\u001b[0m\u001b[0m\n\u001b[0;32m----> 5\u001b[0;31m     \u001b[0;32mfor\u001b[0m \u001b[0mi\u001b[0m \u001b[0;32min\u001b[0m \u001b[0mrange\u001b[0m\u001b[0;34m(\u001b[0m\u001b[0mk\u001b[0m\u001b[0;34m,\u001b[0m \u001b[0mlen\u001b[0m\u001b[0;34m(\u001b[0m\u001b[0md\u001b[0m\u001b[0;34m)\u001b[0m\u001b[0;34m,\u001b[0m \u001b[0mk\u001b[0m\u001b[0;34m)\u001b[0m\u001b[0;34m:\u001b[0m\u001b[0;34m\u001b[0m\u001b[0;34m\u001b[0m\u001b[0m\n\u001b[0m\u001b[1;32m      6\u001b[0m         \u001b[0mstart\u001b[0m \u001b[0;34m=\u001b[0m \u001b[0mtime\u001b[0m\u001b[0;34m.\u001b[0m\u001b[0mtime\u001b[0m\u001b[0;34m(\u001b[0m\u001b[0;34m)\u001b[0m\u001b[0;34m\u001b[0m\u001b[0;34m\u001b[0m\u001b[0m\n\u001b[1;32m      7\u001b[0m         \u001b[0mt\u001b[0m\u001b[0;34m,\u001b[0m \u001b[0mr\u001b[0m \u001b[0;34m=\u001b[0m \u001b[0mallPatterns\u001b[0m\u001b[0;34m(\u001b[0m\u001b[0md\u001b[0m\u001b[0;34m,\u001b[0m \u001b[0mi\u001b[0m\u001b[0;34m)\u001b[0m\u001b[0;34m\u001b[0m\u001b[0;34m\u001b[0m\u001b[0m\n",
            "\u001b[0;31mValueError\u001b[0m: range() arg 3 must not be zero"
          ]
        }
      ]
    },
    {
      "cell_type": "code",
      "metadata": {
        "id": "2srAf2E1oqkL"
      },
      "source": [
        "def closedPatterns(d,minsupp):\n",
        "  s=eclat(d,target='c',supp=minsupp)\n",
        "  if len(s)>0:\n",
        "    df=pd.DataFrame(s)\n",
        "    df.columns=[\"Pattern\",\"Freq\"]\n",
        "    return df,True\n",
        "  return _,False\n"
      ],
      "execution_count": null,
      "outputs": []
    },
    {
      "cell_type": "code",
      "metadata": {
        "id": "NHcpA6fapHaU"
      },
      "source": [
        "def plotClosedPatterns(filename):\n",
        "  numberdata=[]\n",
        "  d,_=loadDataset(filename)\n",
        "  k=len(d)//20\n",
        "  for i in range(k,len(d),k):\n",
        "    start = time.time()\n",
        "    t,r=closedPatterns(d,i)\n",
        "    end=time.time()\n",
        "    if r:\n",
        "      numberdata.append((i,t.shape[0],end-start))\n",
        "  df=df.DataFrame(numberdata)\n",
        "  df.columns=[\"Threshold\",\"AllItemsets\",\"TimeAllItemsets\"]\n",
        "  fig, ax=plt.subplots(1,2)\n",
        "  sns.lineplot(x=\"Threshold\",y=\"AllItemsets\",ax=ax[0],data=df)\n",
        "  sns.lineplot(x=\"Threshold\",y=\"TimeAllItemsets\",ax=ax[1],data=df)\n",
        "  return df"
      ],
      "execution_count": null,
      "outputs": []
    },
    {
      "cell_type": "code",
      "metadata": {
        "id": "grUwDFkgrHFn"
      },
      "source": [
        "dx=dfAFI.join(dfCFI.set_index(\"Threshold\"),on='Threshold')\n",
        "dx=dx.join(dfMFI.set_index(\"Threshold\"),on='Threshold')\n",
        "dx"
      ],
      "execution_count": null,
      "outputs": []
    }
  ]
}