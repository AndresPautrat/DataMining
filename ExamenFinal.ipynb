{
  "nbformat": 4,
  "nbformat_minor": 0,
  "metadata": {
    "colab": {
      "name": "dm_20202_EB.ipynb",
      "provenance": [],
      "collapsed_sections": [],
      "toc_visible": true,
      "include_colab_link": true
    },
    "kernelspec": {
      "name": "python3",
      "display_name": "Python 3"
    }
  },
  "cells": [
    {
      "cell_type": "markdown",
      "metadata": {
        "id": "view-in-github",
        "colab_type": "text"
      },
      "source": [
        "<a href=\"https://colab.research.google.com/github/AndresPautrat/DataMining/blob/main/ExamenFinal.ipynb\" target=\"_parent\"><img src=\"https://colab.research.google.com/assets/colab-badge.svg\" alt=\"Open In Colab\"/></a>"
      ]
    },
    {
      "cell_type": "markdown",
      "metadata": {
        "id": "xhNEKNPAF8kD"
      },
      "source": [
        "|![UPC](https://www.upc.edu.pe/static/img/logo_upc_red.png)\n",
        " :-: \n",
        "<h1>Data Mining</h1>\n",
        "<h6>Final Exam 2020-2</h6>\n",
        "\n",
        "&nbsp; | &nbsp;\n",
        "- | -\n",
        "Section   | CC81\n",
        "Professor | Luis Martín Canaval Sánchez\n",
        "Start     | 09:00:00\n",
        "End       | 10:50:00\n",
        "Duration  | 110 minutes\n",
        "\n",
        "## Instructions\n",
        "* <font color=\"red\">Plagiarism is unacceptable in any academic environment, and is a serious violation of the [UPC's Student discipline bylaws](https://sica.upc.edu.pe/categoria/reglamentos-upc/sica-reg-26-reglamento-de-disciplina-de-alumnos). If some or all of your assignment is identified as plagiarism, you may lose all credit you received for the assignment. And disciplinary action may occur.</font>\n",
        "\n",
        "* You must make a copy of this notebook into your own accout so your changes can be saved automatically.\n",
        "\n",
        "* Do not modify the provided code in any cell except the ones specifically marked for you to your put answers into. You are free to add as many cells as you require to properly solve the exam.\n",
        "\n",
        "* Instructions are provided to properly provide your answer for the visualization part of the exam.\n",
        "\n",
        "* When you are finished, download your notebook as is (in IPYNB format), rename it as **`EB_APELLIDOPATERNO_APELLIDOMATERNO_CODIGO.ipynb`** also download the code of the Observable notebook you make and rename it as **`EB_APELLIDOPATERNO_APELLIDOMATERNO_CODIGO.tgz`** and send both files to the assignment created on https://aulavirtual.upc.edu.pe/ on the **Final Exam EB** section of the class.\n",
        "\n",
        "* You are responsible for correctly naming and sending the file, failing to do so will result on the impossibility to grade it and the corresponding failing grade will be awarded.\n",
        "\n",
        "* Any answer with compiling or running time errors will be awarded, at most, half the points.\n",
        "\n",
        "* Mysterious or alleged answers will invalidate the question and a no points will be awarded.\n"
      ]
    },
    {
      "cell_type": "markdown",
      "metadata": {
        "id": "TGMBPOoDmeKT"
      },
      "source": [
        "## Data\n"
      ]
    },
    {
      "cell_type": "code",
      "metadata": {
        "cellView": "form",
        "id": "ES6RFQ92MjUY"
      },
      "source": [
        "#@markdown Select your dataset and run this cell and the corresponding dataset\n",
        "#@markdown with .dat extension will be downloaded.\n",
        "\n",
        "Dataset = \"Pick one!\" #@param ['Pick one!', 'chess', 'connect', 'pumsb', 'pumsb_star']\n",
        "\n",
        "if Dataset == \"Pick one!\":\n",
        "    print(\"Pick one, pal! it's not so difficult!\")\n",
        "else:\n",
        "    file = f\"{Dataset}.dat\"\n",
        "    url = f\"http://fimi.uantwerpen.be/data/{file}\"\n",
        "    !curl -O $url\n",
        "    import pathlib\n",
        "    from IPython.display import display, Markdown\n",
        "\n",
        "    p = pathlib.Path(file)\n",
        "    if p.is_file():\n",
        "        display(Markdown(f\"# {file}\\nwas dowloaded for your convenience\"))"
      ],
      "execution_count": null,
      "outputs": []
    },
    {
      "cell_type": "markdown",
      "metadata": {
        "id": "NncAvRDlSx67"
      },
      "source": [
        "## Question 1 (6 points)\n",
        "\n",
        "Complete the following frequent itemset mining related tasks:"
      ]
    },
    {
      "cell_type": "code",
      "metadata": {
        "colab": {
          "base_uri": "https://localhost:8080/"
        },
        "id": "-nn91XMMROuZ",
        "outputId": "0ea4497c-590e-4d0c-baa0-314f98749090"
      },
      "source": [
        "%%script bash\n",
        "curl -O https://borgelt.net/bin/py3/fim.so\n",
        "sudo ln -sf \"$(pwd)/fim.so\" /usr/local/lib/python3.6/dist-packages/"
      ],
      "execution_count": null,
      "outputs": [
        {
          "output_type": "stream",
          "text": [
            "  % Total    % Received % Xferd  Average Speed   Time    Time     Time  Current\n",
            "                                 Dload  Upload   Total   Spent    Left  Speed\n",
            "\r  0     0    0     0    0     0      0      0 --:--:-- --:--:-- --:--:--     0\r  0     0    0     0    0     0      0      0 --:--:-- --:--:-- --:--:--     0\r100  756k  100  756k    0     0   584k      0  0:00:01  0:00:01 --:--:--  584k\n"
          ],
          "name": "stderr"
        }
      ]
    },
    {
      "cell_type": "code",
      "metadata": {
        "id": "bVgdBS1zRPWH"
      },
      "source": [
        "def loadDataset(filename):\n",
        "    with open(filename, \"r\") as file:\n",
        "        dataset = []\n",
        "        dataset1 = []\n",
        "        for x in file:\n",
        "            if \"#\" in x: continue\n",
        "            items = x.split()\n",
        "            dataset.append([int(j) for j in items [1:]])\n",
        "            if items[0] == '1':\n",
        "                dataset1.append([int(j) for j in items [1:]])\n",
        "\n",
        "    return dataset, dataset1"
      ],
      "execution_count": null,
      "outputs": []
    },
    {
      "cell_type": "code",
      "metadata": {
        "id": "r42M_vYyRSCd"
      },
      "source": [
        "from fim import *"
      ],
      "execution_count": null,
      "outputs": []
    },
    {
      "cell_type": "code",
      "metadata": {
        "id": "XXUNUX3gRT9I"
      },
      "source": [
        "import matplotlib.pyplot as plt\n",
        "import numpy as no\n",
        "import seaborn as sns; sns.set()\n",
        "import time\n",
        "import pandas as pd"
      ],
      "execution_count": null,
      "outputs": []
    },
    {
      "cell_type": "code",
      "metadata": {
        "id": "v1b7dGTkRVs0"
      },
      "source": [
        "def emergingPattern(d, d1, minsupp, mingr):\n",
        "    allitemsets = eclat(d, target='a', supp=-minsupp)\n",
        "    if len(allitemsets) > 0:\n",
        "        allitemsets1 = eclat(d1, target='a', supp=-minsupp)\n",
        "        df = pd.DataFrame(allitemsets)\n",
        "        df.columns = [\"Pattern\", \"Freq\"]\n",
        "        df1 = pd.DataFrame(allitemsets1)\n",
        "        df1.columns = [\"Pattern\", \"Freq1\"]\n",
        "        emerging = df.join(df1.set_index('Pattern'), on='Pattern').fillna(0)\n",
        "        emerging[\"Gr\"] = ((len(d) - len(d1)) * emerging[\"Freq1\"]) / \\\n",
        "                          (len(d1) * (emerging[\"Freq\"] - emerging[\"Freq1\"]))\n",
        "        emerging = emerging[emerging.Gr >= mingr]\n",
        "        jep = emerging[emerging.Freq == emerging.Freq1]\n",
        "        \n",
        "        return emerging, jep, True\n",
        "    \n",
        "    return _, _, False"
      ],
      "execution_count": null,
      "outputs": []
    },
    {
      "cell_type": "code",
      "metadata": {
        "id": "xq6-wiozRXYM"
      },
      "source": [
        "def plotEmergingPatterns(v, em):\n",
        "    numberData = []\n",
        "    if v:\n",
        "        for i in range(0, 61, 5):\n",
        "            em_ = em[em.Gr >= i]\n",
        "            numberData.append((i, len(em_), 0))\n",
        "    df = pd.DataFrame(numberData)\n",
        "    df.columns = [\"Growth-rate\", \"#Itemsets\", \"TimeEmergingItemsets\"]\n",
        "    sns.lineplot(x=\"Growth-rate\", y=\"#Itemsets\", data=df)\n",
        "\n",
        "    return df"
      ],
      "execution_count": null,
      "outputs": []
    },
    {
      "cell_type": "code",
      "metadata": {
        "id": "fVMo0NkdTQTO"
      },
      "source": [
        "loadDataset()"
      ],
      "execution_count": null,
      "outputs": []
    },
    {
      "cell_type": "markdown",
      "metadata": {
        "id": "hURhK2JKTy_Z"
      },
      "source": [
        "### Task 1.1\n",
        "\n",
        "(2 points) Select 1 of the frequent itemsets or association rule techniques from class and explain how you can apply it to the dataset you chose."
      ]
    },
    {
      "cell_type": "markdown",
      "metadata": {
        "id": "KrJBYVIiUNsL"
      },
      "source": [
        "<font color=\"orangered\">[Double click here to write your answer]</font>\n",
        "<!-- now delete all this text so you can properly write your answer :v -->"
      ]
    },
    {
      "cell_type": "markdown",
      "metadata": {
        "id": "-uSZGvEIS9uN"
      },
      "source": [
        "### Task 1.2\n",
        "\n",
        "(1 point) Import all the necessary packages to load the data and implement the algorithms you chose on the dataset you selected."
      ]
    },
    {
      "cell_type": "code",
      "metadata": {
        "id": "EZuV0yTJTm2f"
      },
      "source": [
        "# Your answer for task 1.2 here"
      ],
      "execution_count": null,
      "outputs": []
    },
    {
      "cell_type": "markdown",
      "metadata": {
        "id": "iPKolKTbU9sz"
      },
      "source": [
        "### Task 1.3\n",
        "\n",
        "(3 points) Implement the algorithm you described on the previous task."
      ]
    },
    {
      "cell_type": "code",
      "metadata": {
        "id": "iDSgzy5KMekw"
      },
      "source": [
        "# Your answer for task 1.3 here"
      ],
      "execution_count": null,
      "outputs": []
    },
    {
      "cell_type": "markdown",
      "metadata": {
        "id": "f5GgPtj3e_r5"
      },
      "source": [
        "## Question 2 (14 points)\n",
        "\n",
        "You are provided with an Observable notebook on [this URL](https://observablehq.com/@pcsilcan/peru). You need to fork or copy it to work on the following tasks and provide a URL to the final result as a public Notebook. You will also need to download the result and send it along with this notebook. See the instructions at the begining or ask your prof. for clarification.\n",
        "\n",
        "1. (6 puntos) Put together a dataset with any information you like about cities in Peru including decimal coordinates information. You must include at least 2 attributes of information besides decimal coordinates. You can get coordinates from a few cities from [this page](https://www.geodatos.net/coordenadas/peru) or this [other one](https://www.coordenadas-gps.com/mapa/pais/PE). Make your dataset available to your notebook and briefly describe the information it contains.\n",
        "\n",
        "2. (6 puntos) Using the notebook provided above (don't forget to fork it before you start) project the data on the map provided.\n",
        "\n",
        "3. (2 puntos) Explain your visualization.\n",
        "\n",
        "<font color=\"OrangeRed\">Do not forget to PUBLISH it!</font>"
      ]
    },
    {
      "cell_type": "markdown",
      "metadata": {
        "id": "EsMpEC24fPIW"
      },
      "source": [
        "<font color=\"orangered\">[Double click here to write your answer]</font>\n",
        "<!-- now delete all this text so you can properly write your answer :v -->\n",
        "* Task 2.1 Dataset URL here: https://raw.githubusercontent.com/AndresPautrat/DataMining/main/datajson2.json\n",
        "* Task 2.2 Notebook URL here: https://observablehq.com/@andrespautrat/peru"
      ]
    },
    {
      "cell_type": "markdown",
      "metadata": {
        "id": "R4NJH9In71ML"
      },
      "source": [
        "<p align='right'>Monterrico, December 1th 2020</p>"
      ]
    },
    {
      "cell_type": "code",
      "metadata": {
        "id": "EYaPadlDraqk"
      },
      "source": [
        "#I shoy the peru map with coordinates as point of each deprtment, i try to make that when you put you mouse over a point show the name of the department but i couldnt\n",
        "#The import from the link dont work well"
      ],
      "execution_count": null,
      "outputs": []
    }
  ]
}