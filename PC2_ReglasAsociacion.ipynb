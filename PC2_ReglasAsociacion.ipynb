{
  "nbformat": 4,
  "nbformat_minor": 0,
  "metadata": {
    "colab": {
      "name": "PC2DM.ipynb",
      "provenance": [],
      "collapsed_sections": [],
      "authorship_tag": "ABX9TyOcOtxpbBg++30K7sq4G46V",
      "include_colab_link": true
    },
    "kernelspec": {
      "name": "python3",
      "display_name": "Python 3"
    }
  },
  "cells": [
    {
      "cell_type": "markdown",
      "metadata": {
        "id": "view-in-github",
        "colab_type": "text"
      },
      "source": [
        "<a href=\"https://colab.research.google.com/github/AndresPautrat/DataMining/blob/main/PC2_ReglasAsociacion.ipynb\" target=\"_parent\"><img src=\"https://colab.research.google.com/assets/colab-badge.svg\" alt=\"Open In Colab\"/></a>"
      ]
    },
    {
      "cell_type": "markdown",
      "metadata": {
        "id": "cjGgFpP34rU0"
      },
      "source": [
        "Andres Pautrat\n",
        "https://colab.research.google.com/drive/1MEphdJTv7m4E2E94LAnY1xo0eYP43Rka?usp=sharing\n"
      ]
    },
    {
      "cell_type": "code",
      "metadata": {
        "id": "Pu_PZxaEbADR",
        "colab": {
          "base_uri": "https://localhost:8080/"
        },
        "outputId": "c7fa3ecc-1501-4c22-a71f-9f60d9811da4"
      },
      "source": [
        "#i think it a long tim but it work, i import the data localy to dont waste time\n",
        "%%bash\n",
        "products = drive.google.com/uc?id=1jTLkPSHs3se5Nco8SVijO0Yl_wVf4JuB\n",
        "order_products = drive.google.com/uc?id=1gWgn4GoP8HpaItQqKXiVqrlUCw80yUcX\n",
        "\n",
        "gdown --id 1jTLkPSHs3se5Nco8SVijO0Yl_wVf4JuB\n",
        "gdown --id 1gWgn4GoP8HpaItQqKXiVqrlUCw80yUcX\n",
        "unzip products.csv.zip\n",
        "unzip order_products__prior.csv.zip\n"
      ],
      "execution_count": null,
      "outputs": [
        {
          "output_type": "stream",
          "text": [
            "Archive:  products.csv.zip\n"
          ],
          "name": "stdout"
        },
        {
          "output_type": "stream",
          "text": [
            "bash: line 1: products: command not found\n",
            "bash: line 2: order_products: command not found\n",
            "Downloading...\n",
            "From: https://drive.google.com/uc?id=1jTLkPSHs3se5Nco8SVijO0Yl_wVf4JuB\n",
            "To: /content/products.csv.zip\n",
            "\r  0%|          | 0.00/814k [00:00<?, ?B/s]\r100%|##########| 814k/814k [00:00<00:00, 52.1MB/s]\n",
            "Downloading...\n",
            "From: https://drive.google.com/uc?id=1gWgn4GoP8HpaItQqKXiVqrlUCw80yUcX\n",
            "To: /content/order_products__prior.csv.zip\n",
            "\r0.00B [00:00, ?B/s]\r22.5MB [00:00, 223MB/s]\r53.0MB [00:00, 241MB/s]\r82.3MB [00:00, 254MB/s]\r114MB [00:00, 268MB/s] \r136MB [00:00, 249MB/s]\r158MB [00:00, 219MB/s]\r165MB [00:00, 230MB/s]\n",
            "replace products.csv? [y]es, [n]o, [A]ll, [N]one, [r]ename: error:  invalid response [unzip ord]\n",
            "replace products.csv? [y]es, [n]o, [A]ll, [N]one, [r]ename: error:  invalid response [er_produc]\n",
            "replace products.csv? [y]es, [n]o, [A]ll, [N]one, [r]ename: error:  invalid response [ts__prior]\n",
            "replace products.csv? [y]es, [n]o, [A]ll, [N]one, [r]ename: error:  invalid response [.csv.zip]\n",
            "replace products.csv? [y]es, [n]o, [A]ll, [N]one, [r]ename:  NULL\n",
            "(EOF or read error, treating as \"[N]one\" ...)\n"
          ],
          "name": "stderr"
        }
      ]
    },
    {
      "cell_type": "markdown",
      "metadata": {
        "id": "LOrcX4Rfs5_4"
      },
      "source": [
        "First she import every necesary library."
      ]
    },
    {
      "cell_type": "code",
      "metadata": {
        "id": "OpC2Nr5seZPp"
      },
      "source": [
        "import pandas as pd\n",
        "import numpy as np\n",
        "import sys\n",
        "from itertools import combinations, groupby\n",
        "from collections import Counter\n",
        "from IPython.display import display"
      ],
      "execution_count": null,
      "outputs": []
    },
    {
      "cell_type": "markdown",
      "metadata": {
        "id": "SpoGN1dntMnc"
      },
      "source": [
        "With this function she get the size of a file, but its only used to inform the user, with prints/"
      ]
    },
    {
      "cell_type": "code",
      "metadata": {
        "id": "72ban-3sehhE"
      },
      "source": [
        "def size(obj):\n",
        "    return \"{0:.2f} MB\".format(sys.getsizeof(obj) / (1000 * 1000))"
      ],
      "execution_count": null,
      "outputs": []
    },
    {
      "cell_type": "markdown",
      "metadata": {
        "id": "BlfO0BExtm4u"
      },
      "source": [
        "Here she read the file, show it size and the first values in the dataframe."
      ]
    },
    {
      "cell_type": "code",
      "metadata": {
        "id": "d2KwCBmAgp_I",
        "colab": {
          "base_uri": "https://localhost:8080/",
          "height": 215
        },
        "outputId": "6f832d4c-7f45-4abe-d86a-923c084b048b"
      },
      "source": [
        "orders = pd.read_csv('order_products__prior.csv')\n",
        "print('orders -- dimensions: {0};   size: {1}'.format(orders.shape, size(orders)))\n",
        "display(orders.head())"
      ],
      "execution_count": null,
      "outputs": [
        {
          "output_type": "stream",
          "text": [
            "orders -- dimensions: (70024, 4);   size: 2.24 MB\n"
          ],
          "name": "stdout"
        },
        {
          "output_type": "display_data",
          "data": {
            "text/html": [
              "<div>\n",
              "<style scoped>\n",
              "    .dataframe tbody tr th:only-of-type {\n",
              "        vertical-align: middle;\n",
              "    }\n",
              "\n",
              "    .dataframe tbody tr th {\n",
              "        vertical-align: top;\n",
              "    }\n",
              "\n",
              "    .dataframe thead th {\n",
              "        text-align: right;\n",
              "    }\n",
              "</style>\n",
              "<table border=\"1\" class=\"dataframe\">\n",
              "  <thead>\n",
              "    <tr style=\"text-align: right;\">\n",
              "      <th></th>\n",
              "      <th>order_id</th>\n",
              "      <th>product_id</th>\n",
              "      <th>add_to_cart_order</th>\n",
              "      <th>reordered</th>\n",
              "    </tr>\n",
              "  </thead>\n",
              "  <tbody>\n",
              "    <tr>\n",
              "      <th>0</th>\n",
              "      <td>2</td>\n",
              "      <td>33120</td>\n",
              "      <td>1</td>\n",
              "      <td>1.0</td>\n",
              "    </tr>\n",
              "    <tr>\n",
              "      <th>1</th>\n",
              "      <td>2</td>\n",
              "      <td>28985</td>\n",
              "      <td>2</td>\n",
              "      <td>1.0</td>\n",
              "    </tr>\n",
              "    <tr>\n",
              "      <th>2</th>\n",
              "      <td>2</td>\n",
              "      <td>9327</td>\n",
              "      <td>3</td>\n",
              "      <td>0.0</td>\n",
              "    </tr>\n",
              "    <tr>\n",
              "      <th>3</th>\n",
              "      <td>2</td>\n",
              "      <td>45918</td>\n",
              "      <td>4</td>\n",
              "      <td>1.0</td>\n",
              "    </tr>\n",
              "    <tr>\n",
              "      <th>4</th>\n",
              "      <td>2</td>\n",
              "      <td>30035</td>\n",
              "      <td>5</td>\n",
              "      <td>0.0</td>\n",
              "    </tr>\n",
              "  </tbody>\n",
              "</table>\n",
              "</div>"
            ],
            "text/plain": [
              "   order_id  product_id  add_to_cart_order  reordered\n",
              "0         2       33120                  1        1.0\n",
              "1         2       28985                  2        1.0\n",
              "2         2        9327                  3        0.0\n",
              "3         2       45918                  4        1.0\n",
              "4         2       30035                  5        0.0"
            ]
          },
          "metadata": {
            "tags": []
          }
        }
      ]
    },
    {
      "cell_type": "markdown",
      "metadata": {
        "id": "NG6_ejVYuIOh"
      },
      "source": [
        "She convert the dataframe to a series to use it in her algorithms."
      ]
    },
    {
      "cell_type": "code",
      "metadata": {
        "id": "8kIlhsfwgrzv",
        "colab": {
          "base_uri": "https://localhost:8080/",
          "height": 247
        },
        "outputId": "a2c63748-4d2f-400d-cdd2-f8459243e668"
      },
      "source": [
        "# Convert from DataFrame to a Series, with order_id as index and item_id as value\n",
        "orders = orders.set_index('order_id')['product_id'].rename('item_id')\n",
        "display(orders.head(10))\n",
        "type(orders)"
      ],
      "execution_count": null,
      "outputs": [
        {
          "output_type": "display_data",
          "data": {
            "text/plain": [
              "order_id\n",
              "2    33120\n",
              "2    28985\n",
              "2     9327\n",
              "2    45918\n",
              "2    30035\n",
              "2    17794\n",
              "2    40141\n",
              "2     1819\n",
              "2    43668\n",
              "3    33754\n",
              "Name: item_id, dtype: int64"
            ]
          },
          "metadata": {
            "tags": []
          }
        },
        {
          "output_type": "execute_result",
          "data": {
            "text/plain": [
              "pandas.core.series.Series"
            ]
          },
          "metadata": {
            "tags": []
          },
          "execution_count": 57
        }
      ]
    },
    {
      "cell_type": "markdown",
      "metadata": {
        "id": "KL06wRZ0u49m"
      },
      "source": [
        "Here she review the propierties for te new serie"
      ]
    },
    {
      "cell_type": "code",
      "metadata": {
        "id": "upFzcdXJgup8",
        "colab": {
          "base_uri": "https://localhost:8080/"
        },
        "outputId": "172e3818-cd2f-4965-80e3-f8f8df913db5"
      },
      "source": [
        "print('dimensions: {0};   size: {1};   unique_orders: {2};   unique_items: {3}'\n",
        "      .format(orders.shape, size(orders), len(orders.index.unique()), len(orders.value_counts())))"
      ],
      "execution_count": null,
      "outputs": [
        {
          "output_type": "stream",
          "text": [
            "dimensions: (7834978,);   size: 125.36 MB;   unique_orders: 776845;   unique_items: 47854\n"
          ],
          "name": "stdout"
        }
      ]
    },
    {
      "cell_type": "markdown",
      "metadata": {
        "id": "hGN73pzzvJ87"
      },
      "source": [
        "She declare all the functions she need for her association rules function."
      ]
    },
    {
      "cell_type": "code",
      "metadata": {
        "id": "eTytbCL7gxCU"
      },
      "source": [
        "# Returns frequency counts for items and item pairs\n",
        "def freq(iterable):\n",
        "    if type(iterable) == pd.core.series.Series:\n",
        "        return iterable.value_counts().rename(\"freq\")\n",
        "    else: \n",
        "        return pd.Series(Counter(iterable)).rename(\"freq\")\n",
        "\n",
        "    \n",
        "# Returns number of unique orders\n",
        "def order_count(order_item):\n",
        "    return len(set(order_item.index))\n",
        "\n",
        "\n",
        "# Returns generator that yields item pairs, one at a time\n",
        "def get_item_pairs(order_item):\n",
        "    order_item = order_item.reset_index().to_numpy()\n",
        "    for order_id, order_object in groupby(order_item, lambda x: x[0]):\n",
        "        item_list = [item[1] for item in order_object]\n",
        "              \n",
        "        for item_pair in combinations(item_list, 2):\n",
        "            yield item_pair\n",
        "            \n",
        "\n",
        "# Returns frequency and support associated with item\n",
        "def merge_item_stats(item_pairs, item_stats):\n",
        "    return (item_pairs\n",
        "                .merge(item_stats.rename(columns={'freq': 'freqA', 'support': 'supportA'}), left_on='item_A', right_index=True)\n",
        "                .merge(item_stats.rename(columns={'freq': 'freqB', 'support': 'supportB'}), left_on='item_B', right_index=True))\n",
        "\n",
        "\n",
        "# Returns name associated with item\n",
        "def merge_item_name(rules, item_name):\n",
        "    columns = ['itemA','itemB','freqAB','supportAB','freqA','supportA','freqB','supportB', \n",
        "               'confidenceAtoB','confidenceBtoA','lift']\n",
        "    rules = (rules\n",
        "                .merge(item_name.rename(columns={'item_name': 'itemA'}), left_on='item_A', right_on='item_id')\n",
        "                .merge(item_name.rename(columns={'item_name': 'itemB'}), left_on='item_B', right_on='item_id'))\n",
        "    return rules[columns] "
      ],
      "execution_count": null,
      "outputs": []
    },
    {
      "cell_type": "markdown",
      "metadata": {
        "id": "_2VJskVWvlF8"
      },
      "source": [
        "Here she declare her main function where she get a dataset and a percentage for minimun suport and find the differente association rules."
      ]
    },
    {
      "cell_type": "code",
      "metadata": {
        "id": "rwBMBzzMgzOJ"
      },
      "source": [
        "def association_rules(order_item, min_support):\n",
        "\n",
        "    print(\"Starting order_item: {:22d}\".format(len(order_item)))\n",
        "\n",
        "\n",
        "    # Calculate item frequency and support\n",
        "    item_stats             = freq(order_item).to_frame(\"freq\")\n",
        "    item_stats['support']  = item_stats['freq'] / order_count(order_item) * 100\n",
        "\n",
        "\n",
        "    # Filter from order_item items below min support \n",
        "    qualifying_items       = item_stats[item_stats['support'] >= min_support].index\n",
        "    order_item             = order_item[order_item.isin(qualifying_items)]\n",
        "\n",
        "    print(\"Items with support >= {}: {:15d}\".format(min_support, len(qualifying_items)))\n",
        "    print(\"Remaining order_item: {:21d}\".format(len(order_item)))\n",
        "\n",
        "\n",
        "    # Filter from order_item orders with less than 2 items\n",
        "    order_size             = freq(order_item.index)\n",
        "    qualifying_orders      = order_size[order_size >= 2].index\n",
        "    order_item             = order_item[order_item.index.isin(qualifying_orders)]\n",
        "\n",
        "    print(\"Remaining orders with 2+ items: {:11d}\".format(len(qualifying_orders)))\n",
        "    print(\"Remaining order_item: {:21d}\".format(len(order_item)))\n",
        "\n",
        "\n",
        "    # Recalculate item frequency and support\n",
        "    item_stats             = freq(order_item).to_frame(\"freq\")\n",
        "    item_stats['support']  = item_stats['freq'] / order_count(order_item) * 100\n",
        "\n",
        "\n",
        "    # Get item pairs generator\n",
        "    item_pair_gen          = get_item_pairs(order_item)\n",
        "\n",
        "\n",
        "    # Calculate item pair frequency and support\n",
        "    item_pairs              = freq(item_pair_gen).to_frame(\"freqAB\")\n",
        "    item_pairs['supportAB'] = item_pairs['freqAB'] / len(qualifying_orders) * 100\n",
        "\n",
        "    print(\"Item pairs: {:31d}\".format(len(item_pairs)))\n",
        "\n",
        "\n",
        "    # Filter from item_pairs those below min support\n",
        "    item_pairs              = item_pairs[item_pairs['supportAB'] >= min_support]\n",
        "\n",
        "    print(\"Item pairs with support >= {}: {:10d}\\n\".format(min_support, len(item_pairs)))\n",
        "\n",
        "\n",
        "    # Create table of association rules and compute relevant metrics\n",
        "    item_pairs = item_pairs.reset_index().rename(columns={'level_0': 'item_A', 'level_1': 'item_B'})\n",
        "    item_pairs = merge_item_stats(item_pairs, item_stats)\n",
        "    \n",
        "    item_pairs['confidenceAtoB'] = item_pairs['supportAB'] / item_pairs['supportA']\n",
        "    item_pairs['confidenceBtoA'] = item_pairs['supportAB'] / item_pairs['supportB']\n",
        "    item_pairs['lift']           = item_pairs['supportAB'] / (item_pairs['supportA'] * item_pairs['supportB'])\n",
        "    \n",
        "    \n",
        "    # Return association rules sorted by lift in descending order\n",
        "    return item_pairs.sort_values('lift', ascending=False)"
      ],
      "execution_count": null,
      "outputs": []
    },
    {
      "cell_type": "code",
      "metadata": {
        "id": "Y1GDMok7g139",
        "colab": {
          "base_uri": "https://localhost:8080/"
        },
        "outputId": "1359403a-8ab5-466a-9ea2-8c5fe43535f8"
      },
      "source": [
        "rules = association_rules(orders, 0.1)  "
      ],
      "execution_count": null,
      "outputs": [
        {
          "output_type": "stream",
          "text": [
            "Starting order_item:                7834978\n",
            "Items with support >= 0.1:            1771\n",
            "Remaining order_item:               5006590\n",
            "Remaining orders with 2+ items:      660252\n",
            "Remaining order_item:               4928270\n",
            "Item pairs:                         2246233\n",
            "Item pairs with support >= 0.1:       1547\n",
            "\n"
          ],
          "name": "stdout"
        }
      ]
    },
    {
      "cell_type": "markdown",
      "metadata": {
        "id": "nGtVruYawGWY"
      },
      "source": [
        "Here she use que association rules she have found before with the dataset of products to get the values where the rules can be applied."
      ]
    },
    {
      "cell_type": "code",
      "metadata": {
        "id": "duPzhvz1g4rs",
        "colab": {
          "base_uri": "https://localhost:8080/",
          "height": 856
        },
        "outputId": "9c137c47-5a1e-4046-831d-277c0d00e243"
      },
      "source": [
        "# Replace item ID with item name and display association rules\n",
        "item_name   = pd.read_csv('products.csv')\n",
        "item_name   = item_name.rename(columns={'product_id':'item_id', 'product_name':'item_name'})\n",
        "rules_final = merge_item_name(rules, item_name).sort_values('lift', ascending=False)\n",
        "display(rules_final)"
      ],
      "execution_count": null,
      "outputs": [
        {
          "output_type": "display_data",
          "data": {
            "text/html": [
              "<div>\n",
              "<style scoped>\n",
              "    .dataframe tbody tr th:only-of-type {\n",
              "        vertical-align: middle;\n",
              "    }\n",
              "\n",
              "    .dataframe tbody tr th {\n",
              "        vertical-align: top;\n",
              "    }\n",
              "\n",
              "    .dataframe thead th {\n",
              "        text-align: right;\n",
              "    }\n",
              "</style>\n",
              "<table border=\"1\" class=\"dataframe\">\n",
              "  <thead>\n",
              "    <tr style=\"text-align: right;\">\n",
              "      <th></th>\n",
              "      <th>itemA</th>\n",
              "      <th>itemB</th>\n",
              "      <th>freqAB</th>\n",
              "      <th>supportAB</th>\n",
              "      <th>freqA</th>\n",
              "      <th>supportA</th>\n",
              "      <th>freqB</th>\n",
              "      <th>supportB</th>\n",
              "      <th>confidenceAtoB</th>\n",
              "      <th>confidenceBtoA</th>\n",
              "      <th>lift</th>\n",
              "    </tr>\n",
              "  </thead>\n",
              "  <tbody>\n",
              "    <tr>\n",
              "      <th>0</th>\n",
              "      <td>Icelandic Style Skyr Blueberry Non-fat Yogurt</td>\n",
              "      <td>Nonfat Icelandic Style Strawberry Yogurt</td>\n",
              "      <td>672</td>\n",
              "      <td>0.101779</td>\n",
              "      <td>4651</td>\n",
              "      <td>0.704428</td>\n",
              "      <td>2548</td>\n",
              "      <td>0.385913</td>\n",
              "      <td>0.144485</td>\n",
              "      <td>0.263736</td>\n",
              "      <td>0.374398</td>\n",
              "    </tr>\n",
              "    <tr>\n",
              "      <th>1</th>\n",
              "      <td>Icelandic Style Skyr Blueberry Non-fat Yogurt</td>\n",
              "      <td>Non Fat Raspberry Yogurt</td>\n",
              "      <td>917</td>\n",
              "      <td>0.138886</td>\n",
              "      <td>4651</td>\n",
              "      <td>0.704428</td>\n",
              "      <td>3991</td>\n",
              "      <td>0.604466</td>\n",
              "      <td>0.197162</td>\n",
              "      <td>0.229767</td>\n",
              "      <td>0.326175</td>\n",
              "    </tr>\n",
              "    <tr>\n",
              "      <th>5</th>\n",
              "      <td>Non Fat Raspberry Yogurt</td>\n",
              "      <td>Icelandic Style Skyr Blueberry Non-fat Yogurt</td>\n",
              "      <td>871</td>\n",
              "      <td>0.131919</td>\n",
              "      <td>3991</td>\n",
              "      <td>0.604466</td>\n",
              "      <td>4651</td>\n",
              "      <td>0.704428</td>\n",
              "      <td>0.218241</td>\n",
              "      <td>0.187272</td>\n",
              "      <td>0.309813</td>\n",
              "    </tr>\n",
              "    <tr>\n",
              "      <th>6</th>\n",
              "      <td>Vanilla Skyr Nonfat Yogurt</td>\n",
              "      <td>Icelandic Style Skyr Blueberry Non-fat Yogurt</td>\n",
              "      <td>843</td>\n",
              "      <td>0.127679</td>\n",
              "      <td>4335</td>\n",
              "      <td>0.656567</td>\n",
              "      <td>4651</td>\n",
              "      <td>0.704428</td>\n",
              "      <td>0.194464</td>\n",
              "      <td>0.181251</td>\n",
              "      <td>0.276059</td>\n",
              "    </tr>\n",
              "    <tr>\n",
              "      <th>3</th>\n",
              "      <td>Icelandic Style Skyr Blueberry Non-fat Yogurt</td>\n",
              "      <td>Vanilla Skyr Nonfat Yogurt</td>\n",
              "      <td>772</td>\n",
              "      <td>0.116925</td>\n",
              "      <td>4651</td>\n",
              "      <td>0.704428</td>\n",
              "      <td>4335</td>\n",
              "      <td>0.656567</td>\n",
              "      <td>0.165986</td>\n",
              "      <td>0.178085</td>\n",
              "      <td>0.252808</td>\n",
              "    </tr>\n",
              "    <tr>\n",
              "      <th>...</th>\n",
              "      <td>...</td>\n",
              "      <td>...</td>\n",
              "      <td>...</td>\n",
              "      <td>...</td>\n",
              "      <td>...</td>\n",
              "      <td>...</td>\n",
              "      <td>...</td>\n",
              "      <td>...</td>\n",
              "      <td>...</td>\n",
              "      <td>...</td>\n",
              "      <td>...</td>\n",
              "    </tr>\n",
              "    <tr>\n",
              "      <th>30</th>\n",
              "      <td>Organic Small Bunch Celery</td>\n",
              "      <td>Banana</td>\n",
              "      <td>742</td>\n",
              "      <td>0.112381</td>\n",
              "      <td>16276</td>\n",
              "      <td>2.465119</td>\n",
              "      <td>112681</td>\n",
              "      <td>17.066363</td>\n",
              "      <td>0.045589</td>\n",
              "      <td>0.006585</td>\n",
              "      <td>0.002671</td>\n",
              "    </tr>\n",
              "    <tr>\n",
              "      <th>31</th>\n",
              "      <td>Organic Yellow Onion</td>\n",
              "      <td>Banana</td>\n",
              "      <td>1227</td>\n",
              "      <td>0.185838</td>\n",
              "      <td>27135</td>\n",
              "      <td>4.109794</td>\n",
              "      <td>112681</td>\n",
              "      <td>17.066363</td>\n",
              "      <td>0.045218</td>\n",
              "      <td>0.010889</td>\n",
              "      <td>0.002650</td>\n",
              "    </tr>\n",
              "    <tr>\n",
              "      <th>37</th>\n",
              "      <td>Organic Cucumber</td>\n",
              "      <td>Banana</td>\n",
              "      <td>848</td>\n",
              "      <td>0.128436</td>\n",
              "      <td>19355</td>\n",
              "      <td>2.931456</td>\n",
              "      <td>112681</td>\n",
              "      <td>17.066363</td>\n",
              "      <td>0.043813</td>\n",
              "      <td>0.007526</td>\n",
              "      <td>0.002567</td>\n",
              "    </tr>\n",
              "    <tr>\n",
              "      <th>515</th>\n",
              "      <td>Cucumber Kirby</td>\n",
              "      <td>Bag of Organic Bananas</td>\n",
              "      <td>782</td>\n",
              "      <td>0.118440</td>\n",
              "      <td>23427</td>\n",
              "      <td>3.548191</td>\n",
              "      <td>89921</td>\n",
              "      <td>13.619194</td>\n",
              "      <td>0.033380</td>\n",
              "      <td>0.008697</td>\n",
              "      <td>0.002451</td>\n",
              "    </tr>\n",
              "    <tr>\n",
              "      <th>47</th>\n",
              "      <td>Organic Lemon</td>\n",
              "      <td>Banana</td>\n",
              "      <td>857</td>\n",
              "      <td>0.129799</td>\n",
              "      <td>21056</td>\n",
              "      <td>3.189085</td>\n",
              "      <td>112681</td>\n",
              "      <td>17.066363</td>\n",
              "      <td>0.040701</td>\n",
              "      <td>0.007606</td>\n",
              "      <td>0.002385</td>\n",
              "    </tr>\n",
              "  </tbody>\n",
              "</table>\n",
              "<p>1547 rows × 11 columns</p>\n",
              "</div>"
            ],
            "text/plain": [
              "                                             itemA  ...      lift\n",
              "0    Icelandic Style Skyr Blueberry Non-fat Yogurt  ...  0.374398\n",
              "1    Icelandic Style Skyr Blueberry Non-fat Yogurt  ...  0.326175\n",
              "5                         Non Fat Raspberry Yogurt  ...  0.309813\n",
              "6                       Vanilla Skyr Nonfat Yogurt  ...  0.276059\n",
              "3    Icelandic Style Skyr Blueberry Non-fat Yogurt  ...  0.252808\n",
              "..                                             ...  ...       ...\n",
              "30                      Organic Small Bunch Celery  ...  0.002671\n",
              "31                            Organic Yellow Onion  ...  0.002650\n",
              "37                                Organic Cucumber  ...  0.002567\n",
              "515                                 Cucumber Kirby  ...  0.002451\n",
              "47                                   Organic Lemon  ...  0.002385\n",
              "\n",
              "[1547 rows x 11 columns]"
            ]
          },
          "metadata": {
            "tags": []
          }
        }
      ]
    },
    {
      "cell_type": "markdown",
      "metadata": {
        "id": "6R_T5vyZzRfo"
      },
      "source": [
        "Merge pattern can be mined, to do it we need use subsets of the data and apply a eclat funcion to get the frequency of the values that have a higher support than the minimum support, then you compare the diferent frequency of the subdatasets, to find patterns. You can see the results with plots lines of the different subsets."
      ]
    },
    {
      "cell_type": "markdown",
      "metadata": {
        "id": "bLIkXGcS3BUl"
      },
      "source": [
        "Sky pattern can be applied, for that we need to find the values that highlight. This can be easy noticed with plot points. With code we need to compare the values, frequency, confidence and lift then see in the data if a values have higher values than the others or with a convinacion of features."
      ]
    },
    {
      "cell_type": "code",
      "metadata": {
        "id": "0R70_gzX1xPh",
        "colab": {
          "base_uri": "https://localhost:8080/"
        },
        "outputId": "509dab87-8c17-4ef7-db7d-8e6e249ec84b"
      },
      "source": [
        "#at least i try :'c\n",
        "%%script bash\n",
        "curl -O https://borgelt.net/bin/py3/fim.so\n",
        "sudo ln -sf \"$(pwd)/fim.so\" /usr/local/lib/python3.6/dist-packages/"
      ],
      "execution_count": null,
      "outputs": [
        {
          "output_type": "stream",
          "text": [
            "  % Total    % Received % Xferd  Average Speed   Time    Time     Time  Current\n",
            "                                 Dload  Upload   Total   Spent    Left  Speed\n",
            "\r  0     0    0     0    0     0      0      0 --:--:-- --:--:-- --:--:--     0\r  0     0    0     0    0     0      0      0 --:--:-- --:--:-- --:--:--     0\r 48  756k   48  367k    0     0   309k      0  0:00:02  0:00:01  0:00:01  309k\r100  756k  100  756k    0     0   585k      0  0:00:01  0:00:01 --:--:--  585k\n"
          ],
          "name": "stderr"
        }
      ]
    },
    {
      "cell_type": "code",
      "metadata": {
        "id": "AeqC8B-o1roF"
      },
      "source": [
        "from fim import *\n",
        "import matplotlib.pyplot as plt\n",
        "import numpy as no\n",
        "import seaborn as sns; sns.set()\n",
        "import time\n",
        "import pandas as pd"
      ],
      "execution_count": null,
      "outputs": []
    },
    {
      "cell_type": "code",
      "metadata": {
        "id": "ib_bABHfwVjy"
      },
      "source": [
        "def emergingPattern(d, d1, minsupp, mingr):\n",
        "    allitemsets = eclat(d, target='a', supp=-minsupp)\n",
        "    if len(allitemsets) > 0:\n",
        "        allitemsets1 = eclat(d1, target='a', supp=-minsupp)\n",
        "        df = pd.DataFrame(allitemsets)\n",
        "        df.columns = [\"Pattern\", \"Freq\"]\n",
        "        df1 = pd.DataFrame(allitemsets1)\n",
        "        df1.columns = [\"Pattern\", \"Freq1\"]\n",
        "        emerging = df.join(df1.set_index('Pattern'), on='Pattern').fillna(0)\n",
        "        emerging[\"Gr\"] = ((len(d) - len(d1)) * emerging[\"Freq1\"]) / \\\n",
        "                          (len(d1) * (emerging[\"Freq\"] - emerging[\"Freq1\"]))\n",
        "        emerging = emerging[emerging.Gr >= mingr]\n",
        "        jep = emerging[emerging.Freq == emerging.Freq1]\n",
        "        \n",
        "        return emerging, jep, True\n",
        "    \n",
        "    return _, _, False"
      ],
      "execution_count": null,
      "outputs": []
    },
    {
      "cell_type": "code",
      "metadata": {
        "id": "eiNJcNhr1JUs"
      },
      "source": [
        "def plotEmergingPatterns(v, em):\n",
        "    numberData = []\n",
        "    if v:\n",
        "        for i in range(0, 61, 5):\n",
        "            em_ = em[em.Gr >= i]\n",
        "            numberData.append((i, len(em_), 0))\n",
        "    df = pd.DataFrame(numberData)\n",
        "    df.columns = [\"Growth-rate\", \"#Itemsets\", \"TimeEmergingItemsets\"]\n",
        "    sns.lineplot(x=\"Growth-rate\", y=\"#Itemsets\", data=df)\n",
        "\n",
        "    return df\n"
      ],
      "execution_count": null,
      "outputs": []
    },
    {
      "cell_type": "code",
      "metadata": {
        "id": "u7BNDop81K76",
        "colab": {
          "base_uri": "https://localhost:8080/",
          "height": 705
        },
        "outputId": "3eaa1bc8-d39e-4d16-982b-0faa8325511f"
      },
      "source": [
        "em, jep, ok = emergingPattern(item_name, item_name, -1, 1)\n",
        "plotEmergingPatterns(ok, em)"
      ],
      "execution_count": null,
      "outputs": [
        {
          "output_type": "execute_result",
          "data": {
            "text/html": [
              "<div>\n",
              "<style scoped>\n",
              "    .dataframe tbody tr th:only-of-type {\n",
              "        vertical-align: middle;\n",
              "    }\n",
              "\n",
              "    .dataframe tbody tr th {\n",
              "        vertical-align: top;\n",
              "    }\n",
              "\n",
              "    .dataframe thead th {\n",
              "        text-align: right;\n",
              "    }\n",
              "</style>\n",
              "<table border=\"1\" class=\"dataframe\">\n",
              "  <thead>\n",
              "    <tr style=\"text-align: right;\">\n",
              "      <th></th>\n",
              "      <th>Growth-rate</th>\n",
              "      <th>#Itemsets</th>\n",
              "      <th>TimeEmergingItemsets</th>\n",
              "    </tr>\n",
              "  </thead>\n",
              "  <tbody>\n",
              "    <tr>\n",
              "      <th>0</th>\n",
              "      <td>0</td>\n",
              "      <td>0</td>\n",
              "      <td>0</td>\n",
              "    </tr>\n",
              "    <tr>\n",
              "      <th>1</th>\n",
              "      <td>5</td>\n",
              "      <td>0</td>\n",
              "      <td>0</td>\n",
              "    </tr>\n",
              "    <tr>\n",
              "      <th>2</th>\n",
              "      <td>10</td>\n",
              "      <td>0</td>\n",
              "      <td>0</td>\n",
              "    </tr>\n",
              "    <tr>\n",
              "      <th>3</th>\n",
              "      <td>15</td>\n",
              "      <td>0</td>\n",
              "      <td>0</td>\n",
              "    </tr>\n",
              "    <tr>\n",
              "      <th>4</th>\n",
              "      <td>20</td>\n",
              "      <td>0</td>\n",
              "      <td>0</td>\n",
              "    </tr>\n",
              "    <tr>\n",
              "      <th>5</th>\n",
              "      <td>25</td>\n",
              "      <td>0</td>\n",
              "      <td>0</td>\n",
              "    </tr>\n",
              "    <tr>\n",
              "      <th>6</th>\n",
              "      <td>30</td>\n",
              "      <td>0</td>\n",
              "      <td>0</td>\n",
              "    </tr>\n",
              "    <tr>\n",
              "      <th>7</th>\n",
              "      <td>35</td>\n",
              "      <td>0</td>\n",
              "      <td>0</td>\n",
              "    </tr>\n",
              "    <tr>\n",
              "      <th>8</th>\n",
              "      <td>40</td>\n",
              "      <td>0</td>\n",
              "      <td>0</td>\n",
              "    </tr>\n",
              "    <tr>\n",
              "      <th>9</th>\n",
              "      <td>45</td>\n",
              "      <td>0</td>\n",
              "      <td>0</td>\n",
              "    </tr>\n",
              "    <tr>\n",
              "      <th>10</th>\n",
              "      <td>50</td>\n",
              "      <td>0</td>\n",
              "      <td>0</td>\n",
              "    </tr>\n",
              "    <tr>\n",
              "      <th>11</th>\n",
              "      <td>55</td>\n",
              "      <td>0</td>\n",
              "      <td>0</td>\n",
              "    </tr>\n",
              "    <tr>\n",
              "      <th>12</th>\n",
              "      <td>60</td>\n",
              "      <td>0</td>\n",
              "      <td>0</td>\n",
              "    </tr>\n",
              "  </tbody>\n",
              "</table>\n",
              "</div>"
            ],
            "text/plain": [
              "    Growth-rate  #Itemsets  TimeEmergingItemsets\n",
              "0             0          0                     0\n",
              "1             5          0                     0\n",
              "2            10          0                     0\n",
              "3            15          0                     0\n",
              "4            20          0                     0\n",
              "5            25          0                     0\n",
              "6            30          0                     0\n",
              "7            35          0                     0\n",
              "8            40          0                     0\n",
              "9            45          0                     0\n",
              "10           50          0                     0\n",
              "11           55          0                     0\n",
              "12           60          0                     0"
            ]
          },
          "metadata": {
            "tags": []
          },
          "execution_count": 69
        },
        {
          "output_type": "display_data",
          "data": {
            "image/png": "[encoded data removed]",
            "text/plain": [
              "<Figure size 432x288 with 1 Axes>"
            ]
          },
          "metadata": {
            "tags": []
          }
        }
      ]
    },
    {
      "cell_type": "code",
      "metadata": {
        "id": "K7_WVQqJ1uNC"
      },
      "source": [
        ""
      ],
      "execution_count": null,
      "outputs": []
    }
  ]
}